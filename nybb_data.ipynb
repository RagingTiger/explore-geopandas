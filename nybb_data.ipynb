{
 "cells": [
  {
   "cell_type": "markdown",
   "id": "5bd69a39-5dd0-457b-a0d5-f4a90c410481",
   "metadata": {},
   "source": [
    "# Exploring GeoPandas: New York Boroughs Data Set\n",
    "This `JupyterLab` notebook is soley for exploring `GeoPandas` using the builtin data: `nybb`."
   ]
  },
  {
   "cell_type": "markdown",
   "id": "23fea132-cbb2-42d5-a1bf-ced54d08785b",
   "metadata": {},
   "source": [
    "## Setup\n",
    "First let's load the necessary *modules* and *data*."
   ]
  },
  {
   "cell_type": "code",
   "execution_count": null,
   "id": "d6b74f6e-ec1a-434f-9181-81fc922124bf",
   "metadata": {},
   "outputs": [],
   "source": [
    "# first let's get the libs\n",
    "import geopandas\n",
    "\n",
    "# get the nyc borough data\n",
    "nyc_boroughs = geopandas.read_file(geopandas.datasets.get_path('nybb'))\n",
    "\n",
    "# see whats in the data\n",
    "nyc_boroughs"
   ]
  },
  {
   "cell_type": "markdown",
   "id": "0128b6c0-e3ca-4583-b4d2-e4936bb227db",
   "metadata": {},
   "source": [
    "## Borough Names\n",
    "Let's create a `color map` for the *names* of the five *boroughs*"
   ]
  },
  {
   "cell_type": "code",
   "execution_count": null,
   "id": "0a67b7ca-dc41-479d-9fb9-7ec4208df5d7",
   "metadata": {},
   "outputs": [],
   "source": [
    "# just see the borough names\n",
    "nyc_boroughs.plot('BoroName', legend=True, figsize=(16, 12), cmap='turbo');"
   ]
  },
  {
   "cell_type": "markdown",
   "id": "f4dc6872-c115-46ba-8109-edfeeece5d4d",
   "metadata": {},
   "source": [
    "## Borough Area\n",
    "Just plot the area using a `color map` (i.e. the default *GeoPandas* plot)."
   ]
  },
  {
   "cell_type": "code",
   "execution_count": null,
   "id": "717af93c-e701-4325-b0f9-b55646eceae9",
   "metadata": {},
   "outputs": [],
   "source": [
    "# just see the borough areas\n",
    "nyc_boroughs.plot('Shape_Area', legend=True, figsize=(16, 12));"
   ]
  },
  {
   "cell_type": "markdown",
   "id": "85b64aae-4ba2-47ed-a624-937f6e1b1807",
   "metadata": {},
   "source": [
    "## Borough Borders\n",
    "Only view the *borders* of the five boroughs."
   ]
  },
  {
   "cell_type": "code",
   "execution_count": null,
   "id": "8c90ba39-2094-4494-8a34-779df3c227d2",
   "metadata": {},
   "outputs": [],
   "source": [
    "# just see the borough boundaries\n",
    "nyc_boroughs.boundary.plot(figsize=(16, 12));"
   ]
  }
 ],
 "metadata": {
  "kernelspec": {
   "display_name": "Python 3 (ipykernel)",
   "language": "python",
   "name": "python3"
  },
  "language_info": {
   "codemirror_mode": {
    "name": "ipython",
    "version": 3
   },
   "file_extension": ".py",
   "mimetype": "text/x-python",
   "name": "python",
   "nbconvert_exporter": "python",
   "pygments_lexer": "ipython3",
   "version": "3.9.6"
  }
 },
 "nbformat": 4,
 "nbformat_minor": 5
}
